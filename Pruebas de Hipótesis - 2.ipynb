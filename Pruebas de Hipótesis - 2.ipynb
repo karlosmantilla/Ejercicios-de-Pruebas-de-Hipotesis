{
 "cells": [
  {
   "cell_type": "markdown",
   "metadata": {
    "slideshow": {
     "slide_type": "slide"
    }
   },
   "source": [
    "# Pruebas de Hipótesis (Ejemplos)\n",
    "\n",
    "Ya hemos discutidos algunos de los elementos teóricos más básicos. Veamos, ahora, la aplicación usando datos provenientes de una muestra. Se trata de los promedios académicos de los estudiantes de las sedes regionales de la UIS.\n",
    "\n",
    "Primero importamos los datos. Los vamos a traer desde una ubicación en Dropbox, pero recordemos que podemos tenerlos también en el disco local en cuyo caso el argumento `url('...')` se remplaza por el de directorio local también entre apóstrofos."
   ]
  },
  {
   "cell_type": "code",
   "execution_count": 1,
   "metadata": {},
   "outputs": [],
   "source": [
    "datos <- read.table(url('https://www.dropbox.com/s/nrxvkfelsxdbfge/promedios.txt?dl=1'), header = T, sep = '\\t')"
   ]
  },
  {
   "cell_type": "code",
   "execution_count": 2,
   "metadata": {},
   "outputs": [
    {
     "data": {
      "text/html": [
       "<table>\n",
       "<caption>A data.frame: 6 × 7</caption>\n",
       "<thead>\n",
       "\t<tr><th></th><th scope=col>ano_academico</th><th scope=col>periodo_acad</th><th scope=col>codigo_est</th><th scope=col>programa_academico</th><th scope=col>prome_pond_acum</th><th scope=col>prome_semestre</th><th scope=col>SEDE</th></tr>\n",
       "\t<tr><th></th><th scope=col>&lt;int&gt;</th><th scope=col>&lt;int&gt;</th><th scope=col>&lt;int&gt;</th><th scope=col>&lt;int&gt;</th><th scope=col>&lt;dbl&gt;</th><th scope=col>&lt;dbl&gt;</th><th scope=col>&lt;chr&gt;</th></tr>\n",
       "</thead>\n",
       "<tbody>\n",
       "\t<tr><th scope=row>1</th><td>2017</td><td>1</td><td>2144235</td><td>23</td><td>3.06</td><td>3.30</td><td>BARBOSA</td></tr>\n",
       "\t<tr><th scope=row>2</th><td>2017</td><td>1</td><td>2145518</td><td>22</td><td>3.44</td><td>3.45</td><td>BARBOSA</td></tr>\n",
       "\t<tr><th scope=row>3</th><td>2017</td><td>1</td><td>2145538</td><td>24</td><td>3.37</td><td>3.89</td><td>BARBOSA</td></tr>\n",
       "\t<tr><th scope=row>4</th><td>2017</td><td>1</td><td>2145584</td><td>22</td><td>3.46</td><td>3.93</td><td>BARBOSA</td></tr>\n",
       "\t<tr><th scope=row>5</th><td>2017</td><td>1</td><td>2145586</td><td>22</td><td>3.25</td><td>3.30</td><td>BARBOSA</td></tr>\n",
       "\t<tr><th scope=row>6</th><td>2017</td><td>1</td><td>2145588</td><td>22</td><td>3.49</td><td>3.63</td><td>BARBOSA</td></tr>\n",
       "</tbody>\n",
       "</table>\n"
      ],
      "text/latex": [
       "A data.frame: 6 × 7\n",
       "\\begin{tabular}{r|lllllll}\n",
       "  & ano\\_academico & periodo\\_acad & codigo\\_est & programa\\_academico & prome\\_pond\\_acum & prome\\_semestre & SEDE\\\\\n",
       "  & <int> & <int> & <int> & <int> & <dbl> & <dbl> & <chr>\\\\\n",
       "\\hline\n",
       "\t1 & 2017 & 1 & 2144235 & 23 & 3.06 & 3.30 & BARBOSA\\\\\n",
       "\t2 & 2017 & 1 & 2145518 & 22 & 3.44 & 3.45 & BARBOSA\\\\\n",
       "\t3 & 2017 & 1 & 2145538 & 24 & 3.37 & 3.89 & BARBOSA\\\\\n",
       "\t4 & 2017 & 1 & 2145584 & 22 & 3.46 & 3.93 & BARBOSA\\\\\n",
       "\t5 & 2017 & 1 & 2145586 & 22 & 3.25 & 3.30 & BARBOSA\\\\\n",
       "\t6 & 2017 & 1 & 2145588 & 22 & 3.49 & 3.63 & BARBOSA\\\\\n",
       "\\end{tabular}\n"
      ],
      "text/markdown": [
       "\n",
       "A data.frame: 6 × 7\n",
       "\n",
       "| <!--/--> | ano_academico &lt;int&gt; | periodo_acad &lt;int&gt; | codigo_est &lt;int&gt; | programa_academico &lt;int&gt; | prome_pond_acum &lt;dbl&gt; | prome_semestre &lt;dbl&gt; | SEDE &lt;chr&gt; |\n",
       "|---|---|---|---|---|---|---|---|\n",
       "| 1 | 2017 | 1 | 2144235 | 23 | 3.06 | 3.30 | BARBOSA |\n",
       "| 2 | 2017 | 1 | 2145518 | 22 | 3.44 | 3.45 | BARBOSA |\n",
       "| 3 | 2017 | 1 | 2145538 | 24 | 3.37 | 3.89 | BARBOSA |\n",
       "| 4 | 2017 | 1 | 2145584 | 22 | 3.46 | 3.93 | BARBOSA |\n",
       "| 5 | 2017 | 1 | 2145586 | 22 | 3.25 | 3.30 | BARBOSA |\n",
       "| 6 | 2017 | 1 | 2145588 | 22 | 3.49 | 3.63 | BARBOSA |\n",
       "\n"
      ],
      "text/plain": [
       "  ano_academico periodo_acad codigo_est programa_academico prome_pond_acum\n",
       "1 2017          1            2144235    23                 3.06           \n",
       "2 2017          1            2145518    22                 3.44           \n",
       "3 2017          1            2145538    24                 3.37           \n",
       "4 2017          1            2145584    22                 3.46           \n",
       "5 2017          1            2145586    22                 3.25           \n",
       "6 2017          1            2145588    22                 3.49           \n",
       "  prome_semestre SEDE   \n",
       "1 3.30           BARBOSA\n",
       "2 3.45           BARBOSA\n",
       "3 3.89           BARBOSA\n",
       "4 3.93           BARBOSA\n",
       "5 3.30           BARBOSA\n",
       "6 3.63           BARBOSA"
      ]
     },
     "metadata": {},
     "output_type": "display_data"
    }
   ],
   "source": [
    "head(datos)"
   ]
  },
  {
   "cell_type": "markdown",
   "metadata": {},
   "source": [
    "Tenemos que transformar programa (que hace referencia a un código interno), sede ya que uno está como variable numérica y otro como cadena de caracteres, ambas son categóricas. Otras variables categóricas son `ano_académico`, `periodo_acad` y `codigo_est`. De paso cambiemos los nombres de algunas variables."
   ]
  },
  {
   "cell_type": "code",
   "execution_count": 3,
   "metadata": {},
   "outputs": [],
   "source": [
    "names(datos) <- c('año','periodo','codigo','programa','prom.acum','prom.sem','sede')"
   ]
  },
  {
   "cell_type": "code",
   "execution_count": 4,
   "metadata": {},
   "outputs": [
    {
     "data": {
      "text/plain": [
       "      año          periodo          codigo           programa    \n",
       " Min.   :2017   Min.   :1.000   Min.   :1960196   Min.   : 1.00  \n",
       " 1st Qu.:2017   1st Qu.:1.000   1st Qu.:2164274   1st Qu.:21.00  \n",
       " Median :2018   Median :1.000   Median :2174235   Median :23.00  \n",
       " Mean   :2018   Mean   :1.496   Mean   :2170691   Mean   :22.64  \n",
       " 3rd Qu.:2019   3rd Qu.:2.000   3rd Qu.:2184161   3rd Qu.:26.00  \n",
       " Max.   :2020   Max.   :2.000   Max.   :2195605   Max.   :62.00  \n",
       "   prom.acum        prom.sem         sede          \n",
       " Min.   :0.080   Min.   :0.000   Length:10775      \n",
       " 1st Qu.:3.280   1st Qu.:3.300   Class :character  \n",
       " Median :3.470   Median :3.580   Mode  :character  \n",
       " Mean   :3.471   Mean   :3.553                     \n",
       " 3rd Qu.:3.670   3rd Qu.:3.850                     \n",
       " Max.   :4.790   Max.   :5.000                     "
      ]
     },
     "metadata": {},
     "output_type": "display_data"
    }
   ],
   "source": [
    "summary(datos)"
   ]
  },
  {
   "cell_type": "code",
   "execution_count": 5,
   "metadata": {},
   "outputs": [
    {
     "name": "stderr",
     "output_type": "stream",
     "text": [
      "\n",
      "Attaching package: 'dplyr'\n",
      "\n",
      "\n",
      "The following objects are masked from 'package:stats':\n",
      "\n",
      "    filter, lag\n",
      "\n",
      "\n",
      "The following objects are masked from 'package:base':\n",
      "\n",
      "    intersect, setdiff, setequal, union\n",
      "\n",
      "\n"
     ]
    }
   ],
   "source": [
    "library(dplyr)"
   ]
  },
  {
   "cell_type": "code",
   "execution_count": 6,
   "metadata": {},
   "outputs": [],
   "source": [
    "datos <- datos %>% \n",
    "  mutate_if(is.character, factor) %>%\n",
    "  mutate_if(is.integer, factor)"
   ]
  },
  {
   "cell_type": "code",
   "execution_count": 7,
   "metadata": {},
   "outputs": [
    {
     "data": {
      "text/plain": [
       "   año       periodo      codigo         programa      prom.acum    \n",
       " 2017:3766   1:5428   2165612:   10   21     :1758   Min.   :0.080  \n",
       " 2018:3592   2:5347   2174281:    8   23     :1600   1st Qu.:3.280  \n",
       " 2019:3414            2175563:    8   3      :1465   Median :3.470  \n",
       " 2020:   3            2145209:    7   24     :1423   Mean   :3.471  \n",
       "                      2155096:    7   33     :1256   3rd Qu.:3.670  \n",
       "                      2165644:    7   22     : 957   Max.   :4.790  \n",
       "                      (Other):10728   (Other):2316                  \n",
       "    prom.sem                  sede     \n",
       " Min.   :0.000   BARBOSA        :1584  \n",
       " 1st Qu.:3.300   BARRANCABERMEJA:2879  \n",
       " Median :3.580   MALAGA         :2935  \n",
       " Mean   :3.553   SOCORRO        :3377  \n",
       " 3rd Qu.:3.850                         \n",
       " Max.   :5.000                         \n",
       "                                       "
      ]
     },
     "metadata": {},
     "output_type": "display_data"
    }
   ],
   "source": [
    "summary(datos)"
   ]
  },
  {
   "cell_type": "markdown",
   "metadata": {},
   "source": [
    "## Pruebas para proporciones\n",
    "\n",
    "El imaginario colectivo indica que en el primer periodo académico de cada año ingresan un mayor número de estudiantes que en el segundo periodo académico. Lo que sugeriría que, del total de estudiantes matriculados, la proporción es mayor en el primer semestre que en el segundo semestre. ¿Cómo se debe plantear la hipótesis?\n",
    "\n",
    "Tenemos dos opciones:\n",
    "\n",
    "$$\n",
    "H_{0} : p1 \\leq 0.5 \\qquad H_{1}: p1 > 0.5\n",
    "$$\n",
    "\n",
    "o\n",
    "\n",
    "$$\n",
    "H_{0} : p1 \\leq p2 \\qquad H_{1}: p1 > p2\n",
    "$$\n",
    "\n",
    "lo que lleva a decir:\n",
    "\n",
    "$$\n",
    "H_{0} : p1 - p2 \\leq 0 \\qquad H_{1}: p1 - p2 > 0\n",
    "$$\n",
    "\n",
    "¿Cómo lo resolvemos?\n",
    "\n",
    "Primero, una librería de utilidad para algunas funciones que usaremos:"
   ]
  },
  {
   "cell_type": "code",
   "execution_count": 8,
   "metadata": {
    "slideshow": {
     "slide_type": "subslide"
    }
   },
   "outputs": [
    {
     "name": "stderr",
     "output_type": "stream",
     "text": [
      "Loading required package: lattice\n",
      "\n",
      "Loading required package: grid\n",
      "\n",
      "Loading required package: latticeExtra\n",
      "\n",
      "Loading required package: multcomp\n",
      "\n",
      "Loading required package: mvtnorm\n",
      "\n",
      "Loading required package: survival\n",
      "\n",
      "Loading required package: TH.data\n",
      "\n",
      "Loading required package: MASS\n",
      "\n",
      "\n",
      "Attaching package: 'MASS'\n",
      "\n",
      "\n",
      "The following object is masked from 'package:dplyr':\n",
      "\n",
      "    select\n",
      "\n",
      "\n",
      "\n",
      "Attaching package: 'TH.data'\n",
      "\n",
      "\n",
      "The following object is masked from 'package:MASS':\n",
      "\n",
      "    geyser\n",
      "\n",
      "\n",
      "Loading required package: gridExtra\n",
      "\n",
      "\n",
      "Attaching package: 'gridExtra'\n",
      "\n",
      "\n",
      "The following object is masked from 'package:dplyr':\n",
      "\n",
      "    combine\n",
      "\n",
      "\n"
     ]
    }
   ],
   "source": [
    "library(HH)"
   ]
  },
  {
   "cell_type": "markdown",
   "metadata": {
    "slideshow": {
     "slide_type": "slide"
    }
   },
   "source": [
    "Una tabla de frecuencias nos permite observar mejor lo que pasa con los datos:"
   ]
  },
  {
   "cell_type": "code",
   "execution_count": 9,
   "metadata": {
    "slideshow": {
     "slide_type": "subslide"
    }
   },
   "outputs": [
    {
     "data": {
      "text/plain": [
       "periodo\n",
       "   1    2 \n",
       "5428 5347 "
      ]
     },
     "metadata": {},
     "output_type": "display_data"
    }
   ],
   "source": [
    "##  Tabla de Frecuencias\n",
    "with(datos, table(periodo))"
   ]
  },
  {
   "cell_type": "markdown",
   "metadata": {},
   "source": [
    "¿Cuál sería la pregunta a resolver?\n",
    "Veamos ahora desde la perspectiva de proporciones:"
   ]
  },
  {
   "cell_type": "code",
   "execution_count": 10,
   "metadata": {},
   "outputs": [
    {
     "data": {
      "text/plain": [
       "periodo\n",
       "        1         2 \n",
       "0.5037587 0.4962413 "
      ]
     },
     "metadata": {},
     "output_type": "display_data"
    }
   ],
   "source": [
    "with(datos, prop.table(table(periodo)))"
   ]
  },
  {
   "cell_type": "markdown",
   "metadata": {},
   "source": [
    "Ahora, veamos la función que vamos a emplear para la prueba de proporciones:"
   ]
  },
  {
   "cell_type": "code",
   "execution_count": 11,
   "metadata": {
    "slideshow": {
     "slide_type": "subslide"
    }
   },
   "outputs": [
    {
     "data": {
      "text/html": [
       "<pre class=language-r><code>function (x, n, p = NULL, alternative = c(\"two.sided\", \"less\", \n",
       "<span style=white-space:pre-wrap>    \"greater\"), conf.level = 0.95, correct = TRUE) </span>\n",
       "NULL</code></pre>"
      ],
      "text/latex": [
       "\\begin{minted}{r}\n",
       "function (x, n, p = NULL, alternative = c(\"two.sided\", \"less\", \n",
       "    \"greater\"), conf.level = 0.95, correct = TRUE) \n",
       "NULL\n",
       "\\end{minted}"
      ],
      "text/markdown": [
       "```r\n",
       "function (x, n, p = NULL, alternative = c(\"two.sided\", \"less\", \n",
       "    \"greater\"), conf.level = 0.95, correct = TRUE) \n",
       "NULL\n",
       "```"
      ],
      "text/plain": [
       "function (x, n, p = NULL, alternative = c(\"two.sided\", \"less\", \n",
       "    \"greater\"), conf.level = 0.95, correct = TRUE) \n",
       "NULL"
      ]
     },
     "metadata": {},
     "output_type": "display_data"
    }
   ],
   "source": [
    "# Veamos la función que vamos a usar:\n",
    "args(prop.test)"
   ]
  },
  {
   "cell_type": "code",
   "execution_count": 12,
   "metadata": {
    "slideshow": {
     "slide_type": "subslide"
    }
   },
   "outputs": [
    {
     "data": {
      "text/plain": [
       "\n",
       "\t1-sample proportions test with continuity correction\n",
       "\n",
       "data:  5428 out of 5428 + 5347, null probability 0.5\n",
       "X-squared = 0.59397, df = 1, p-value = 0.2204\n",
       "alternative hypothesis: true p is greater than 0.5\n",
       "95 percent confidence interval:\n",
       " 0.4957896 1.0000000\n",
       "sample estimates:\n",
       "        p \n",
       "0.5037587 \n"
      ]
     },
     "metadata": {},
     "output_type": "display_data"
    }
   ],
   "source": [
    "# Realizamos la prueba de hipótesis (1er caso):\n",
    "prop.test(5428, 5428 + 5347, p = 0.5, alternative = \"greater\", conf.level = 0.95, correct = TRUE)"
   ]
  },
  {
   "cell_type": "markdown",
   "metadata": {},
   "source": [
    "¿Cómo plantearíamos la segunda opción?"
   ]
  },
  {
   "cell_type": "code",
   "execution_count": 13,
   "metadata": {},
   "outputs": [],
   "source": [
    "# Realizamos la prueba de hipótesis (2do caso):\n",
    "# prop.test(, , p = , alternative = \"\", conf.level = 0.95, correct = )"
   ]
  },
  {
   "cell_type": "markdown",
   "metadata": {
    "slideshow": {
     "slide_type": "subslide"
    }
   },
   "source": [
    "##### Conclusión:\n",
    "\n",
    "Con un nivel de significacian $\\alpha = 0.05$ la evidencia sugiere que la proporción de matriculados en el primer semestre no es mayor que la del segundo semestre."
   ]
  },
  {
   "cell_type": "markdown",
   "metadata": {
    "slideshow": {
     "slide_type": "slide"
    }
   },
   "source": [
    "## Diferencia de Medias\n",
    "\n",
    "Alguna vez, un profesor UIS manifestó que los estudiantes provenientes de la sede Barrancabermeja tenían mejores promedios que los estudiantes de las otras sedes regionales. ¿Cómo comprobamos esa afirmación?\n",
    "\n",
    "Tenemos varias alternativas:\n",
    "\n",
    "* Varianzas conocidas\n",
    "* Varianzas desconocidas pero iguales\n",
    "* Varianzas desconocidas y desiguales\n",
    "\n",
    "Veamos cada caso. Y, antes que nada, veamos los argumentos de las funciones:"
   ]
  },
  {
   "cell_type": "code",
   "execution_count": 14,
   "metadata": {
    "slideshow": {
     "slide_type": "subslide"
    }
   },
   "outputs": [],
   "source": [
    "library(TeachingDemos)"
   ]
  },
  {
   "cell_type": "code",
   "execution_count": 15,
   "metadata": {
    "slideshow": {
     "slide_type": "subslide"
    }
   },
   "outputs": [
    {
     "data": {
      "text/html": [
       "<pre class=language-r><code>function (x, mu = 0, stdev, alternative = c(\"two.sided\", \"less\", \n",
       "<span style=white-space:pre-wrap>    \"greater\"), sd = stdev, n = length(x), conf.level = 0.95, </span>\n",
       "<span style=white-space:pre-wrap>    ...) </span>\n",
       "NULL</code></pre>"
      ],
      "text/latex": [
       "\\begin{minted}{r}\n",
       "function (x, mu = 0, stdev, alternative = c(\"two.sided\", \"less\", \n",
       "    \"greater\"), sd = stdev, n = length(x), conf.level = 0.95, \n",
       "    ...) \n",
       "NULL\n",
       "\\end{minted}"
      ],
      "text/markdown": [
       "```r\n",
       "function (x, mu = 0, stdev, alternative = c(\"two.sided\", \"less\", \n",
       "    \"greater\"), sd = stdev, n = length(x), conf.level = 0.95, \n",
       "    ...) \n",
       "NULL\n",
       "```"
      ],
      "text/plain": [
       "function (x, mu = 0, stdev, alternative = c(\"two.sided\", \"less\", \n",
       "    \"greater\"), sd = stdev, n = length(x), conf.level = 0.95, \n",
       "    ...) \n",
       "NULL"
      ]
     },
     "metadata": {},
     "output_type": "display_data"
    }
   ],
   "source": [
    "args(z.test)"
   ]
  },
  {
   "cell_type": "code",
   "execution_count": 16,
   "metadata": {
    "slideshow": {
     "slide_type": "subslide"
    }
   },
   "outputs": [
    {
     "data": {
      "text/html": [
       "<pre class=language-r><code>function (x, ...) \n",
       "NULL</code></pre>"
      ],
      "text/latex": [
       "\\begin{minted}{r}\n",
       "function (x, ...) \n",
       "NULL\n",
       "\\end{minted}"
      ],
      "text/markdown": [
       "```r\n",
       "function (x, ...) \n",
       "NULL\n",
       "```"
      ],
      "text/plain": [
       "function (x, ...) \n",
       "NULL"
      ]
     },
     "metadata": {},
     "output_type": "display_data"
    }
   ],
   "source": [
    "args(t.test)"
   ]
  },
  {
   "cell_type": "markdown",
   "metadata": {
    "slideshow": {
     "slide_type": "subslide"
    }
   },
   "source": [
    "```\n",
    "## Default S3 method:\n",
    "t.test(x, y = NULL,\n",
    "       alternative = c(\"two.sided\", \"less\", \"greater\"),\n",
    "       mu = 0, paired = FALSE, var.equal = FALSE,\n",
    "       conf.level = 0.95, ...)\n",
    "\n",
    "## S3 method for class 'formula'\n",
    "t.test(formula, data, subset, na.action, ...)\n",
    "```"
   ]
  },
  {
   "cell_type": "markdown",
   "metadata": {
    "slideshow": {
     "slide_type": "subslide"
    }
   },
   "source": [
    "Tenemos que arreglar los datos un poco para poder realizar las pruebas, así que vamos a separarlos en dos conjuntos: uno para la sede Barrancabermeja y otro para las otra sedes regionales:"
   ]
  },
  {
   "cell_type": "code",
   "execution_count": 17,
   "metadata": {},
   "outputs": [
    {
     "data": {
      "text/plain": [
       "   año       periodo      codigo        programa     prom.acum    \n",
       " 2017:1031   1:1421   2164631:   6   21     :605   Min.   :0.480  \n",
       " 2018: 987   2:1458   2164755:   6   23     :478   1st Qu.:3.260  \n",
       " 2019: 861            2174501:   6   24     :430   Median :3.440  \n",
       " 2020:   0            2174503:   6   33     :376   Mean   :3.453  \n",
       "                      2174505:   6   22     :291   3rd Qu.:3.650  \n",
       "                      2174515:   6   26     :284   Max.   :4.740  \n",
       "                      (Other):2843   (Other):415                  \n",
       "    prom.sem                  sede     \n",
       " Min.   :0.060   BARBOSA        :   0  \n",
       " 1st Qu.:3.300   BARRANCABERMEJA:2879  \n",
       " Median :3.560   MALAGA         :   0  \n",
       " Mean   :3.543   SOCORRO        :   0  \n",
       " 3rd Qu.:3.850                         \n",
       " Max.   :4.880                         \n",
       "                                       "
      ]
     },
     "metadata": {},
     "output_type": "display_data"
    },
    {
     "data": {
      "text/plain": [
       "   año       periodo      codigo        programa      prom.acum    \n",
       " 2017:2735   1:4007   2165612:  10   3      :1465   Min.   :0.080  \n",
       " 2018:2605   2:3889   2145209:   7   21     :1153   1st Qu.:3.290  \n",
       " 2019:2553            2155096:   7   23     :1122   Median :3.470  \n",
       " 2020:   3            2165644:   7   24     : 993   Mean   :3.478  \n",
       "                      2104100:   6   33     : 880   3rd Qu.:3.680  \n",
       "                      2104184:   6   22     : 666   Max.   :4.790  \n",
       "                      (Other):7853   (Other):1617                  \n",
       "    prom.sem                  sede     \n",
       " Min.   :0.000   BARBOSA        :1584  \n",
       " 1st Qu.:3.310   BARRANCABERMEJA:   0  \n",
       " Median :3.580   MALAGA         :2935  \n",
       " Mean   :3.557   SOCORRO        :3377  \n",
       " 3rd Qu.:3.850                         \n",
       " Max.   :5.000                         \n",
       "                                       "
      ]
     },
     "metadata": {},
     "output_type": "display_data"
    }
   ],
   "source": [
    "barranca <- datos[datos$sede == 'BARRANCABERMEJA',]\n",
    "otras <- datos[datos$sede != 'BARRANCABERMEJA',]\n",
    "summary(barranca)\n",
    "summary(otras)"
   ]
  },
  {
   "cell_type": "markdown",
   "metadata": {
    "slideshow": {
     "slide_type": "subslide"
    }
   },
   "source": [
    "Cómo queda la hipótesis:\n",
    "\n",
    "$$\n",
    "H_{0} : \\overline{barranca} \\leq \\overline{otras} \\qquad H_{1}: \\overline{barranca} > \\overline{otras}\n",
    "$$"
   ]
  },
  {
   "cell_type": "code",
   "execution_count": 18,
   "metadata": {
    "scrolled": false,
    "slideshow": {
     "slide_type": "subslide"
    }
   },
   "outputs": [
    {
     "data": {
      "text/plain": [
       "\n",
       "\tOne Sample z-test\n",
       "\n",
       "data:  barranca$prom.acum\n",
       "z = -3.3058, n = 2.8790e+03, Std. Dev. = 4.1409e-01, Std. Dev. of the\n",
       "sample mean = 7.7174e-03, p-value = 0.9995\n",
       "alternative hypothesis: true mean is greater than 3.478069\n",
       "95 percent confidence interval:\n",
       " 3.439863      Inf\n",
       "sample estimates:\n",
       "mean of barranca$prom.acum \n",
       "                  3.452556 \n"
      ]
     },
     "metadata": {},
     "output_type": "display_data"
    }
   ],
   "source": [
    "# Primero, la prueba que considera la varianza conocida\n",
    "z.test(barranca$prom.acum, mu=mean(otras$prom.acum), sd = sd(barranca$prom.acum), alternative = \"greater\")"
   ]
  },
  {
   "cell_type": "markdown",
   "metadata": {
    "slideshow": {
     "slide_type": "subslide"
    }
   },
   "source": [
    "#### Conclusión\n",
    "\n",
    "Con un nivel de confianza de $95\\%$, la evidencia sugiere que el promedio de la sede Barrancabermeja no es mayor que el promedio de las otras sedes regionales."
   ]
  },
  {
   "cell_type": "code",
   "execution_count": 19,
   "metadata": {
    "scrolled": true,
    "slideshow": {
     "slide_type": "subslide"
    }
   },
   "outputs": [
    {
     "data": {
      "text/plain": [
       "\n",
       "\tTwo Sample t-test\n",
       "\n",
       "data:  barranca$prom.acum and otras$prom.acum\n",
       "t = -3.1579, df = 10773, p-value = 0.9992\n",
       "alternative hypothesis: true difference in means is greater than 0\n",
       "95 percent confidence interval:\n",
       " -0.03880191         Inf\n",
       "sample estimates:\n",
       "mean of x mean of y \n",
       " 3.452556  3.478069 \n"
      ]
     },
     "metadata": {},
     "output_type": "display_data"
    }
   ],
   "source": [
    "# La segunda opción, varianza desconocida\n",
    "t.test(barranca$prom.acum,otras$prom.acum, alternative = 'greater', var.equal = TRUE)"
   ]
  },
  {
   "cell_type": "markdown",
   "metadata": {
    "slideshow": {
     "slide_type": "subslide"
    }
   },
   "source": [
    "#### Conclusión\n",
    "\n",
    "Con un nivel de confianza de $95\\%$, la evidencia sugiere que el promedio de la sede Barrancabermeja no es mayor que el promedio de las otras sedes regionales."
   ]
  },
  {
   "cell_type": "code",
   "execution_count": 20,
   "metadata": {
    "slideshow": {
     "slide_type": "subslide"
    }
   },
   "outputs": [
    {
     "data": {
      "text/plain": [
       "\n",
       "\tWelch Two Sample t-test\n",
       "\n",
       "data:  barranca$prom.acum and otras$prom.acum\n",
       "t = -2.9373, df = 4500.7, p-value = 0.9983\n",
       "alternative hypothesis: true difference in means is greater than 0\n",
       "95 percent confidence interval:\n",
       " -0.03980153         Inf\n",
       "sample estimates:\n",
       "mean of x mean of y \n",
       " 3.452556  3.478069 \n"
      ]
     },
     "metadata": {},
     "output_type": "display_data"
    }
   ],
   "source": [
    "# La tercera opción, varianza desconocida y desiguales\n",
    "t.test(barranca$prom.acum,otras$prom.acum, alternative = 'greater', var.equal = FALSE)"
   ]
  },
  {
   "cell_type": "markdown",
   "metadata": {
    "slideshow": {
     "slide_type": "subslide"
    }
   },
   "source": [
    "#### Conclusión\n",
    "\n",
    "Con un nivel de confianza de $95\\%$, la evidencia sugiere que el promedio de la sede Barrancabermeja no es mayor que el promedio de las otras sedes regionales."
   ]
  },
  {
   "cell_type": "markdown",
   "metadata": {},
   "source": [
    "## Muestras Dependientes\n",
    "\n",
    "Hasta el momento hemos abordado casos donde las muestras son independientes, es decir, los valores observados en un grupo no están asociados a los valores de otro grupo. Veamos la siguiente afirmación y miremos cómo lo solucionamos si lo tratamos como muestras dependintes:\n",
    "\n",
    "Un profesor UIS indicó en una ocasión que el rendimiento de los estudiantes no cambia periodo a periodo y que el estudiante no logra modificar su promedio.\n",
    "\n",
    "¿Por qué se trata de muestras dependientes? Porque el estudiante ha debido someterse a un proceso de formación y evaluación y, el mismo estudiante, reporta un promedio en un periodo y otro. Así que hay que hacer la prueba con aquellos estudiantes que se mantienen activos en los diferentes periodos. Para probar la hipótesis del profesor, vamos a tomar a los estudiantes de 2017 - 1 y vamos a comparar su promedio con el obtenido en 2019 - 2.\n",
    "\n",
    "¿Cómo procedemos?\n",
    "\n",
    "Primero, organizamos los datos:"
   ]
  },
  {
   "cell_type": "code",
   "execution_count": 21,
   "metadata": {},
   "outputs": [
    {
     "data": {
      "text/plain": [
       "     codigo       prom.acum    \n",
       " 2154212:   2   Min.   :0.480  \n",
       " 2154302:   2   1st Qu.:3.270  \n",
       " 2164090:   2   Median :3.440  \n",
       " 2164529:   2   Mean   :3.438  \n",
       " 2165612:   2   3rd Qu.:3.630  \n",
       " 2165622:   2   Max.   :4.590  \n",
       " (Other):1886                  "
      ]
     },
     "metadata": {},
     "output_type": "display_data"
    },
    {
     "data": {
      "text/plain": [
       "     codigo       prom.acum    \n",
       " 2195093:   2   Min.   :0.960  \n",
       " 2104100:   1   1st Qu.:3.310  \n",
       " 2104170:   1   Median :3.490  \n",
       " 2104184:   1   Mean   :3.497  \n",
       " 2114187:   1   3rd Qu.:3.690  \n",
       " 2114208:   1   Max.   :4.560  \n",
       " (Other):1704                  "
      ]
     },
     "metadata": {},
     "output_type": "display_data"
    }
   ],
   "source": [
    "# Separamos los estudiantes en los dos periodos que vamos a analizar:\n",
    "s20171 <- datos[datos$año == '2017' & datos$periodo == '1', c('codigo','prom.acum')]\n",
    "s20192 <- datos[datos$año == '2019' & datos$periodo == '2', c('codigo','prom.acum')]\n",
    "summary(s20171)\n",
    "summary(s20192)"
   ]
  },
  {
   "cell_type": "code",
   "execution_count": 22,
   "metadata": {},
   "outputs": [
    {
     "data": {
      "text/plain": [
       "     codigo     prom.acum.x     prom.acum.y   \n",
       " 2165644:  2   Min.   :2.700   Min.   :2.830  \n",
       " 2104100:  1   1st Qu.:3.197   1st Qu.:3.390  \n",
       " 2104184:  1   Median :3.365   Median :3.585  \n",
       " 2124111:  1   Mean   :3.402   Mean   :3.598  \n",
       " 2124125:  1   3rd Qu.:3.590   3rd Qu.:3.763  \n",
       " 2124206:  1   Max.   :4.460   Max.   :4.370  \n",
       " (Other):269                                  "
      ]
     },
     "metadata": {},
     "output_type": "display_data"
    }
   ],
   "source": [
    "# Pero, debemos garantizar que los estudiantes son los mismos:\n",
    "prom2017_2019 <- merge(s20171, s20192, by = 'codigo')\n",
    "summary(prom2017_2019)"
   ]
  },
  {
   "cell_type": "markdown",
   "metadata": {},
   "source": [
    "¿Y cuál es la hipótesis?\n",
    "\n",
    "$$\n",
    "H_{0} : \\overline{2017 - 1} = \\overline{2019 - 2} \\qquad H_{1}: \\overline{2017 - 1} \\neq \\overline{2019 - 2}\n",
    "$$"
   ]
  },
  {
   "cell_type": "code",
   "execution_count": 23,
   "metadata": {},
   "outputs": [
    {
     "data": {
      "text/plain": [
       "\n",
       "\tPaired t-test\n",
       "\n",
       "data:  prom2017_2019$prom.acum.x and prom2017_2019$prom.acum.y\n",
       "t = -17.495, df = 275, p-value < 2.2e-16\n",
       "alternative hypothesis: true difference in means is not equal to 0\n",
       "95 percent confidence interval:\n",
       " -0.2183530 -0.1741832\n",
       "sample estimates:\n",
       "mean of the differences \n",
       "             -0.1962681 \n"
      ]
     },
     "metadata": {},
     "output_type": "display_data"
    }
   ],
   "source": [
    "# Ahora, la prueba\n",
    "t.test(prom2017_2019$prom.acum.x,prom2017_2019$prom.acum.y, paired = TRUE)"
   ]
  },
  {
   "cell_type": "markdown",
   "metadata": {},
   "source": [
    "#### Conclusión\n",
    "\n",
    "Con un nivel de confianza de $95\\%$, la evidencia sugiere que el promedio de los estudiantes en 2017 - 1 no es igual a su promedio en 2019 - 2"
   ]
  }
 ],
 "metadata": {
  "celltoolbar": "Slideshow",
  "kernelspec": {
   "display_name": "R",
   "language": "R",
   "name": "ir"
  },
  "language_info": {
   "codemirror_mode": "r",
   "file_extension": ".r",
   "mimetype": "text/x-r-source",
   "name": "R",
   "pygments_lexer": "r",
   "version": "4.0.2"
  }
 },
 "nbformat": 4,
 "nbformat_minor": 2
}
