{
 "cells": [
  {
   "cell_type": "markdown",
   "metadata": {
    "slideshow": {
     "slide_type": "slide"
    }
   },
   "source": [
    "# Pruebas de Hipótesis\n",
    "\n",
    "Ya hemos discutidos algunos de los elementos teóricos más básicos. Veamos, ahora, la aplicación.\n",
    "\n",
    "## Pruebas de Hipótesis para Proporciones:\n",
    "\n",
    "### Ejemplo: admitidos a UCB (University of California at Berkeley)\n",
    "\n",
    "Históricamente la proporción de admitidos ha sido de 40% con un nivel de significancia de 0.01 la proporción de admitidos para 1973 es menor que la histórica?\n",
    "\n",
    "¿Cómo lo resolvemos?"
   ]
  },
  {
   "cell_type": "markdown",
   "metadata": {
    "slideshow": {
     "slide_type": "subslide"
    }
   },
   "source": [
    "Primero, planteemos las hipótesis:\n",
    "\n",
    "$$\n",
    "H_{0} : p \\geq 0.4 \\qquad H_{1}: p < 0.4\n",
    "$$"
   ]
  },
  {
   "cell_type": "markdown",
   "metadata": {
    "slideshow": {
     "slide_type": "subslide"
    }
   },
   "source": [
    "En primer lugar, requerimos algunas librerías:"
   ]
  },
  {
   "cell_type": "code",
   "execution_count": 2,
   "metadata": {
    "slideshow": {
     "slide_type": "subslide"
    }
   },
   "outputs": [
    {
     "name": "stderr",
     "output_type": "stream",
     "text": [
      "Loading required package: lattice\n",
      "Loading required package: grid\n",
      "Loading required package: latticeExtra\n",
      "Loading required package: RColorBrewer\n",
      "Loading required package: multcomp\n",
      "Loading required package: mvtnorm\n",
      "Loading required package: survival\n",
      "Loading required package: TH.data\n",
      "Loading required package: MASS\n",
      "\n",
      "Attaching package: 'TH.data'\n",
      "\n",
      "The following object is masked from 'package:MASS':\n",
      "\n",
      "    geyser\n",
      "\n",
      "Loading required package: gridExtra\n"
     ]
    }
   ],
   "source": [
    "# si no están instaladas las librerías\n",
    "# install.packages(\"IPSUR\")\n",
    "# istall.packages(\"HH\")\n",
    "\n",
    "library(IPSUR)\n",
    "library(HH)"
   ]
  },
  {
   "cell_type": "markdown",
   "metadata": {
    "slideshow": {
     "slide_type": "subslide"
    }
   },
   "source": [
    "Traigamos los datos (el ejemplo hace uso de datos propios del programa):"
   ]
  },
  {
   "cell_type": "code",
   "execution_count": 3,
   "metadata": {
    "slideshow": {
     "slide_type": "subslide"
    }
   },
   "outputs": [
    {
     "data": {
      "text/html": [
       "<table>\n",
       "<thead><tr><th scope=col>Admit</th><th scope=col>Gender</th><th scope=col>Dept</th><th scope=col>Freq</th></tr></thead>\n",
       "<tbody>\n",
       "\t<tr><td>Admitted</td><td>Male    </td><td>A       </td><td>512     </td></tr>\n",
       "\t<tr><td>Rejected</td><td>Male    </td><td>A       </td><td>313     </td></tr>\n",
       "\t<tr><td>Admitted</td><td>Female  </td><td>A       </td><td> 89     </td></tr>\n",
       "\t<tr><td>Rejected</td><td>Female  </td><td>A       </td><td> 19     </td></tr>\n",
       "\t<tr><td>Admitted</td><td>Male    </td><td>B       </td><td>353     </td></tr>\n",
       "\t<tr><td>Rejected</td><td>Male    </td><td>B       </td><td>207     </td></tr>\n",
       "</tbody>\n",
       "</table>\n"
      ],
      "text/latex": [
       "\\begin{tabular}{r|llll}\n",
       " Admit & Gender & Dept & Freq\\\\\n",
       "\\hline\n",
       "\t Admitted & Male     & A        & 512     \\\\\n",
       "\t Rejected & Male     & A        & 313     \\\\\n",
       "\t Admitted & Female   & A        &  89     \\\\\n",
       "\t Rejected & Female   & A        &  19     \\\\\n",
       "\t Admitted & Male     & B        & 353     \\\\\n",
       "\t Rejected & Male     & B        & 207     \\\\\n",
       "\\end{tabular}\n"
      ],
      "text/markdown": [
       "\n",
       "| Admit | Gender | Dept | Freq |\n",
       "|---|---|---|---|\n",
       "| Admitted | Male     | A        | 512      |\n",
       "| Rejected | Male     | A        | 313      |\n",
       "| Admitted | Female   | A        |  89      |\n",
       "| Rejected | Female   | A        |  19      |\n",
       "| Admitted | Male     | B        | 353      |\n",
       "| Rejected | Male     | B        | 207      |\n",
       "\n"
      ],
      "text/plain": [
       "  Admit    Gender Dept Freq\n",
       "1 Admitted Male   A    512 \n",
       "2 Rejected Male   A    313 \n",
       "3 Admitted Female A     89 \n",
       "4 Rejected Female A     19 \n",
       "5 Admitted Male   B    353 \n",
       "6 Rejected Male   B    207 "
      ]
     },
     "metadata": {},
     "output_type": "display_data"
    }
   ],
   "source": [
    "A <- as.data.frame(UCBAdmissions)\n",
    "head(A)"
   ]
  },
  {
   "cell_type": "markdown",
   "metadata": {
    "slideshow": {
     "slide_type": "slide"
    }
   },
   "source": [
    "Construimos la respectiva tabla de frecuencias:"
   ]
  },
  {
   "cell_type": "code",
   "execution_count": 4,
   "metadata": {
    "slideshow": {
     "slide_type": "subslide"
    }
   },
   "outputs": [
    {
     "data": {
      "text/plain": [
       "Admit\n",
       "Admitted Rejected \n",
       "    1755     2771 "
      ]
     },
     "metadata": {},
     "output_type": "display_data"
    }
   ],
   "source": [
    "##  Tabla de Frecuencias\n",
    "xtabs(Freq ~ Admit, data = A)"
   ]
  },
  {
   "cell_type": "code",
   "execution_count": 5,
   "metadata": {
    "slideshow": {
     "slide_type": "subslide"
    }
   },
   "outputs": [
    {
     "data": {
      "text/html": [
       "<pre class=language-r><code>function (x, n, p = NULL, alternative = c(\"two.sided\", \"less\", \n",
       "<span style=white-space:pre-wrap>    \"greater\"), conf.level = 0.95, correct = TRUE) </span>\n",
       "NULL</code></pre>"
      ],
      "text/latex": [
       "\\begin{minted}{r}\n",
       "function (x, n, p = NULL, alternative = c(\"two.sided\", \"less\", \n",
       "    \"greater\"), conf.level = 0.95, correct = TRUE) \n",
       "NULL\n",
       "\\end{minted}"
      ],
      "text/markdown": [
       "```r\n",
       "function (x, n, p = NULL, alternative = c(\"two.sided\", \"less\", \n",
       "    \"greater\"), conf.level = 0.95, correct = TRUE) \n",
       "NULL\n",
       "```"
      ],
      "text/plain": [
       "function (x, n, p = NULL, alternative = c(\"two.sided\", \"less\", \n",
       "    \"greater\"), conf.level = 0.95, correct = TRUE) \n",
       "NULL"
      ]
     },
     "metadata": {},
     "output_type": "display_data"
    }
   ],
   "source": [
    "# Veamos la función que vamos a usar:\n",
    "args(prop.test)"
   ]
  },
  {
   "cell_type": "code",
   "execution_count": 6,
   "metadata": {
    "slideshow": {
     "slide_type": "subslide"
    }
   },
   "outputs": [
    {
     "data": {
      "text/plain": [
       "\n",
       "\t1-sample proportions test without continuity correction\n",
       "\n",
       "data:  1755 out of 1755 + 2771, null probability 0.4\n",
       "X-squared = 2.8255, df = 1, p-value = 0.04639\n",
       "alternative hypothesis: true p is less than 0.4\n",
       "99 percent confidence interval:\n",
       " 0.0000000 0.4047326\n",
       "sample estimates:\n",
       "        p \n",
       "0.3877596 \n"
      ]
     },
     "metadata": {},
     "output_type": "display_data"
    }
   ],
   "source": [
    "# Realizamos la prueba de hipótesis:\n",
    "prop.test(1755, 1755 + 2771, p = 0.4, alternative = \"less\", conf.level = 0.99, correct = FALSE)"
   ]
  },
  {
   "cell_type": "code",
   "execution_count": 7,
   "metadata": {
    "scrolled": false,
    "slideshow": {
     "slide_type": "subslide"
    }
   },
   "outputs": [
    {
     "name": "stderr",
     "output_type": "stream",
     "text": [
      "Warning message in arrows(xbar2, par()$usr[3:4] + c(-0.01, 0.01), xbar2, par()$usr[3:4], :\n",
      "\"zero-length arrow is of indeterminate angle and so skipped\"Warning message in arrows(xbar2, par()$usr[3:4] + c(-0.01, 0.01), xbar2, par()$usr[3:4], :\n",
      "\"zero-length arrow is of indeterminate angle and so skipped\""
     ]
    },
    {
     "data": {
      "image/png": "[encoded data removed]"
     },
     "metadata": {},
     "output_type": "display_data"
    }
   ],
   "source": [
    "# Gráficamente tenemos:\n",
    "temp <- prop.test(1755, 1755 + 2771, p = 0.4, alternative = \"less\", conf.level = 0.99, correct = FALSE)\n",
    "plot(temp, \"Hypoth\")"
   ]
  },
  {
   "cell_type": "markdown",
   "metadata": {
    "slideshow": {
     "slide_type": "subslide"
    }
   },
   "source": [
    "##### Conclusión:\n",
    "\n",
    "Con un nivel de significacian $\\alpha = 0.01$ la evidencia sugiere que la proporción de admitidos en 1973 es menor que la histórica"
   ]
  },
  {
   "cell_type": "markdown",
   "metadata": {
    "slideshow": {
     "slide_type": "slide"
    }
   },
   "source": [
    "## Diferencia de Medias\n",
    "\n",
    "Se tienen los resultados de un experimento para comparar los rendimientos (medidos por el peso de las plantas) obtenidos bajo un control y dos condiciones de tratamiento diferentes. Se busca determinar:\n",
    "* Si el peso medio de las plantas es diferente de 5 considerando que la varianza es conocida\n",
    "* El peso promedio de las plantas es mayor que 10\n",
    "\n",
    "¿Cómo lo resolvemos?"
   ]
  },
  {
   "cell_type": "markdown",
   "metadata": {
    "slideshow": {
     "slide_type": "subslide"
    }
   },
   "source": [
    "Primero, veamos las funciones que vamos a emplear:"
   ]
  },
  {
   "cell_type": "code",
   "execution_count": 9,
   "metadata": {
    "slideshow": {
     "slide_type": "subslide"
    }
   },
   "outputs": [],
   "source": [
    "library(TeachingDemos)"
   ]
  },
  {
   "cell_type": "code",
   "execution_count": 10,
   "metadata": {
    "slideshow": {
     "slide_type": "subslide"
    }
   },
   "outputs": [
    {
     "data": {
      "text/html": [
       "<pre class=language-r><code>function (x, mu = 0, stdev, alternative = c(\"two.sided\", \"less\", \n",
       "<span style=white-space:pre-wrap>    \"greater\"), sd = stdev, n = length(x), conf.level = 0.95, </span>\n",
       "<span style=white-space:pre-wrap>    ...) </span>\n",
       "NULL</code></pre>"
      ],
      "text/latex": [
       "\\begin{minted}{r}\n",
       "function (x, mu = 0, stdev, alternative = c(\"two.sided\", \"less\", \n",
       "    \"greater\"), sd = stdev, n = length(x), conf.level = 0.95, \n",
       "    ...) \n",
       "NULL\n",
       "\\end{minted}"
      ],
      "text/markdown": [
       "```r\n",
       "function (x, mu = 0, stdev, alternative = c(\"two.sided\", \"less\", \n",
       "    \"greater\"), sd = stdev, n = length(x), conf.level = 0.95, \n",
       "    ...) \n",
       "NULL\n",
       "```"
      ],
      "text/plain": [
       "function (x, mu = 0, stdev, alternative = c(\"two.sided\", \"less\", \n",
       "    \"greater\"), sd = stdev, n = length(x), conf.level = 0.95, \n",
       "    ...) \n",
       "NULL"
      ]
     },
     "metadata": {},
     "output_type": "display_data"
    }
   ],
   "source": [
    "args(z.test)"
   ]
  },
  {
   "cell_type": "code",
   "execution_count": 11,
   "metadata": {
    "slideshow": {
     "slide_type": "subslide"
    }
   },
   "outputs": [
    {
     "data": {
      "text/html": [
       "<pre class=language-r><code>function (x, ...) \n",
       "NULL</code></pre>"
      ],
      "text/latex": [
       "\\begin{minted}{r}\n",
       "function (x, ...) \n",
       "NULL\n",
       "\\end{minted}"
      ],
      "text/markdown": [
       "```r\n",
       "function (x, ...) \n",
       "NULL\n",
       "```"
      ],
      "text/plain": [
       "function (x, ...) \n",
       "NULL"
      ]
     },
     "metadata": {},
     "output_type": "display_data"
    }
   ],
   "source": [
    "args(t.test)"
   ]
  },
  {
   "cell_type": "markdown",
   "metadata": {
    "slideshow": {
     "slide_type": "subslide"
    }
   },
   "source": [
    "```\n",
    "## Default S3 method:\n",
    "t.test(x, y = NULL,\n",
    "       alternative = c(\"two.sided\", \"less\", \"greater\"),\n",
    "       mu = 0, paired = FALSE, var.equal = FALSE,\n",
    "       conf.level = 0.95, ...)\n",
    "\n",
    "## S3 method for class 'formula'\n",
    "t.test(formula, data, subset, na.action, ...)\n",
    "```"
   ]
  },
  {
   "cell_type": "code",
   "execution_count": 13,
   "metadata": {
    "slideshow": {
     "slide_type": "subslide"
    }
   },
   "outputs": [
    {
     "data": {
      "text/html": [
       "<table>\n",
       "<thead><tr><th scope=col>weight</th><th scope=col>group</th></tr></thead>\n",
       "<tbody>\n",
       "\t<tr><td>4.17</td><td>ctrl</td></tr>\n",
       "\t<tr><td>5.58</td><td>ctrl</td></tr>\n",
       "\t<tr><td>5.18</td><td>ctrl</td></tr>\n",
       "\t<tr><td>6.11</td><td>ctrl</td></tr>\n",
       "\t<tr><td>4.50</td><td>ctrl</td></tr>\n",
       "\t<tr><td>4.61</td><td>ctrl</td></tr>\n",
       "</tbody>\n",
       "</table>\n"
      ],
      "text/latex": [
       "\\begin{tabular}{r|ll}\n",
       " weight & group\\\\\n",
       "\\hline\n",
       "\t 4.17 & ctrl\\\\\n",
       "\t 5.58 & ctrl\\\\\n",
       "\t 5.18 & ctrl\\\\\n",
       "\t 6.11 & ctrl\\\\\n",
       "\t 4.50 & ctrl\\\\\n",
       "\t 4.61 & ctrl\\\\\n",
       "\\end{tabular}\n"
      ],
      "text/markdown": [
       "\n",
       "| weight | group |\n",
       "|---|---|\n",
       "| 4.17 | ctrl |\n",
       "| 5.58 | ctrl |\n",
       "| 5.18 | ctrl |\n",
       "| 6.11 | ctrl |\n",
       "| 4.50 | ctrl |\n",
       "| 4.61 | ctrl |\n",
       "\n"
      ],
      "text/plain": [
       "  weight group\n",
       "1 4.17   ctrl \n",
       "2 5.58   ctrl \n",
       "3 5.18   ctrl \n",
       "4 6.11   ctrl \n",
       "5 4.50   ctrl \n",
       "6 4.61   ctrl "
      ]
     },
     "metadata": {},
     "output_type": "display_data"
    }
   ],
   "source": [
    "# Vemos los datos\n",
    "head(PlantGrowth)"
   ]
  },
  {
   "cell_type": "markdown",
   "metadata": {
    "slideshow": {
     "slide_type": "subslide"
    }
   },
   "source": [
    "Cómo queda la primera hipótesis:\n",
    "\n",
    "$$\n",
    "H_{0} : \\overline{x} = 5 \\qquad H_{1}: \\overline{x} \\neq 5\n",
    "$$"
   ]
  },
  {
   "cell_type": "code",
   "execution_count": 15,
   "metadata": {
    "scrolled": false,
    "slideshow": {
     "slide_type": "subslide"
    }
   },
   "outputs": [
    {
     "data": {
      "text/plain": [
       "\n",
       "\tOne Sample z-test\n",
       "\n",
       "data:  weight\n",
       "z = 0.57023, n = 30.00000, Std. Dev. = 0.70119, Std. Dev. of the sample\n",
       "mean = 0.12802, p-value = 0.5685\n",
       "alternative hypothesis: true mean is not equal to 5\n",
       "95 percent confidence interval:\n",
       " 4.822086 5.323914\n",
       "sample estimates:\n",
       "mean of weight \n",
       "         5.073 \n"
      ]
     },
     "metadata": {},
     "output_type": "display_data"
    }
   ],
   "source": [
    "# Primero, la prueba que considera la varianza conocida\n",
    "with(PlantGrowth, z.test(weight, mu=5, sd = sd(weight)))"
   ]
  },
  {
   "cell_type": "markdown",
   "metadata": {
    "slideshow": {
     "slide_type": "subslide"
    }
   },
   "source": [
    "#### Conclusión\n",
    "\n",
    "Con un nivel de confianza de $95\\%$, la evidencia sugiere que la media del peso de las plantas es igual a 5"
   ]
  },
  {
   "cell_type": "markdown",
   "metadata": {
    "slideshow": {
     "slide_type": "subslide"
    }
   },
   "source": [
    "Cómo queda la segunda hipótesis:\n",
    "\n",
    "$$\n",
    "H_{0} : \\overline{x} \\leq 10 \\qquad H_{1}: \\overline{x} > 10\n",
    "$$"
   ]
  },
  {
   "cell_type": "code",
   "execution_count": 17,
   "metadata": {
    "scrolled": true,
    "slideshow": {
     "slide_type": "subslide"
    }
   },
   "outputs": [
    {
     "data": {
      "text/plain": [
       "\n",
       "\tOne Sample t-test\n",
       "\n",
       "data:  weight\n",
       "t = -38.486, df = 29, p-value = 1\n",
       "alternative hypothesis: true mean is greater than 10\n",
       "95 percent confidence interval:\n",
       " 4.855479      Inf\n",
       "sample estimates:\n",
       "mean of x \n",
       "    5.073 \n"
      ]
     },
     "metadata": {},
     "output_type": "display_data"
    }
   ],
   "source": [
    "with(PlantGrowth, t.test(weight,mu=10, alternative = 'greater'))"
   ]
  },
  {
   "cell_type": "markdown",
   "metadata": {
    "slideshow": {
     "slide_type": "subslide"
    }
   },
   "source": [
    "#### Conclusión\n",
    "\n",
    "Con un nivel de confianza de $95\\%$, la evidencia sugiere que el peso medio de las plantas no es mayor que 10"
   ]
  },
  {
   "cell_type": "markdown",
   "metadata": {
    "slideshow": {
     "slide_type": "slide"
    }
   },
   "source": [
    "## Medias Independientes"
   ]
  },
  {
   "cell_type": "code",
   "execution_count": 20,
   "metadata": {
    "slideshow": {
     "slide_type": "subslide"
    }
   },
   "outputs": [
    {
     "data": {
      "text/html": [
       "<table>\n",
       "<thead><tr><th scope=col>extra</th><th scope=col>group</th><th scope=col>ID</th></tr></thead>\n",
       "<tbody>\n",
       "\t<tr><td> 0.7</td><td>1   </td><td>1   </td></tr>\n",
       "\t<tr><td>-1.6</td><td>1   </td><td>2   </td></tr>\n",
       "\t<tr><td>-0.2</td><td>1   </td><td>3   </td></tr>\n",
       "\t<tr><td>-1.2</td><td>1   </td><td>4   </td></tr>\n",
       "\t<tr><td>-0.1</td><td>1   </td><td>5   </td></tr>\n",
       "\t<tr><td> 3.4</td><td>1   </td><td>6   </td></tr>\n",
       "</tbody>\n",
       "</table>\n"
      ],
      "text/latex": [
       "\\begin{tabular}{r|lll}\n",
       " extra & group & ID\\\\\n",
       "\\hline\n",
       "\t  0.7 & 1    & 1   \\\\\n",
       "\t -1.6 & 1    & 2   \\\\\n",
       "\t -0.2 & 1    & 3   \\\\\n",
       "\t -1.2 & 1    & 4   \\\\\n",
       "\t -0.1 & 1    & 5   \\\\\n",
       "\t  3.4 & 1    & 6   \\\\\n",
       "\\end{tabular}\n"
      ],
      "text/markdown": [
       "\n",
       "| extra | group | ID |\n",
       "|---|---|---|\n",
       "|  0.7 | 1    | 1    |\n",
       "| -1.6 | 1    | 2    |\n",
       "| -0.2 | 1    | 3    |\n",
       "| -1.2 | 1    | 4    |\n",
       "| -0.1 | 1    | 5    |\n",
       "|  3.4 | 1    | 6    |\n",
       "\n"
      ],
      "text/plain": [
       "  extra group ID\n",
       "1  0.7  1     1 \n",
       "2 -1.6  1     2 \n",
       "3 -0.2  1     3 \n",
       "4 -1.2  1     4 \n",
       "5 -0.1  1     5 \n",
       "6  3.4  1     6 "
      ]
     },
     "metadata": {},
     "output_type": "display_data"
    }
   ],
   "source": [
    "head(sleep)"
   ]
  },
  {
   "cell_type": "code",
   "execution_count": 18,
   "metadata": {
    "slideshow": {
     "slide_type": "subslide"
    }
   },
   "outputs": [
    {
     "data": {
      "text/plain": [
       "\n",
       "\tPaired t-test\n",
       "\n",
       "data:  extra by group\n",
       "t = -4.0621, df = 9, p-value = 0.002833\n",
       "alternative hypothesis: true difference in means is not equal to 0\n",
       "95 percent confidence interval:\n",
       " -2.4598858 -0.7001142\n",
       "sample estimates:\n",
       "mean of the differences \n",
       "                  -1.58 \n"
      ]
     },
     "metadata": {},
     "output_type": "display_data"
    }
   ],
   "source": [
    "### medias independientes\n",
    "\n",
    "t.test(extra ~ group, data = sleep, paired = TRUE)"
   ]
  }
 ],
 "metadata": {
  "celltoolbar": "Slideshow",
  "kernelspec": {
   "display_name": "R",
   "language": "R",
   "name": "ir"
  },
  "language_info": {
   "codemirror_mode": "r",
   "file_extension": ".r",
   "mimetype": "text/x-r-source",
   "name": "R",
   "pygments_lexer": "r",
   "version": "3.6.1"
  }
 },
 "nbformat": 4,
 "nbformat_minor": 2
}
